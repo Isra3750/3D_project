{
 "cells": [
  {
   "cell_type": "code",
   "execution_count": 1,
   "id": "15fcf5b4",
   "metadata": {},
   "outputs": [
    {
     "name": "stdout",
     "output_type": "stream",
     "text": [
      "Jupyter environment detected. Enabling Open3D WebVisualizer.\n",
      "[Open3D INFO] WebRTC GUI backend enabled.\n",
      "[Open3D INFO] WebRTCWindowSystem: HTTP handshake server disabled.\n"
     ]
    }
   ],
   "source": [
    "# examples/python/Advanced/interactive_visualization.py\n",
    "\n",
    "import numpy as np\n",
    "import copy\n",
    "import open3d as o3d"
   ]
  },
  {
   "cell_type": "code",
   "execution_count": 56,
   "id": "a88d2730",
   "metadata": {},
   "outputs": [
    {
     "name": "stdout",
     "output_type": "stream",
     "text": [
      "Point cloud has 307200 points.\n"
     ]
    }
   ],
   "source": [
    "# Load in the point cloud\n",
    "pcd = o3d.io.read_point_cloud(\"PointCloud/PointCloud_box_a1.pcd\") # path to point cloud file\n",
    "print(f\"Point cloud has {np.asarray(pcd.points).shape[0]} points.\")\n",
    "\n",
    "# (optional) keep an untouched copy\n",
    "pcd_orig = copy.deepcopy(pcd)"
   ]
  },
  {
   "cell_type": "code",
   "execution_count": 34,
   "id": "706f3878",
   "metadata": {},
   "outputs": [],
   "source": [
    "# visualize, window will pop up\n",
    "# SHift + number will change color map, press number 1-4 to switch\n",
    "o3d.visualization.draw_geometries([pcd_orig],\n",
    "                                  zoom=0.79,\n",
    "                                  front=[0.4257, -0.2125, -0.8795],\n",
    "                                  lookat=[2.6172, 2.0475, 1.532],\n",
    "                                  up=[-0.0694, -0.9768, 0.2024])"
   ]
  },
  {
   "cell_type": "markdown",
   "id": "9c0dcece",
   "metadata": {},
   "source": [
    "### Divide into depth bands"
   ]
  },
  {
   "cell_type": "code",
   "execution_count": null,
   "id": "de5882cf",
   "metadata": {},
   "outputs": [],
   "source": [
    "import numpy as np\n",
    "\n",
    "# Four distance bands in metres ─ tweak to suit your scene\n",
    "# Tilted angle of camera needs to be considered as well\n",
    "bins = np.array([1, 450, 650, 750, np.inf])\n",
    "\n",
    "# Any RGB you like, 0-1 floats.                                                                               \n",
    "palette   = np.array([[0.8, 0.1, 0.1],   # band 0  (nearest)  – red\n",
    "                      [0.9, 0.6, 0.1],   # band 1             – orange\n",
    "                      [0.2, 0.7, 0.2],   # band 2             – green\n",
    "                      [0.1, 0.4, 0.8]])  # band 3  (farthest) – blue"
   ]
  },
  {
   "cell_type": "code",
   "execution_count": 54,
   "id": "98110a6f",
   "metadata": {},
   "outputs": [],
   "source": [
    "pts = np.asarray(pcd.points) # 3-D points\n",
    "\n",
    "# Choose the metric you need\n",
    "# 1. 3-D Euclidean distance from origin (sphere):\n",
    "#dist = np.linalg.norm(pts, axis=1)         \n",
    "\n",
    "# 2. Raw height (Z-axis):\n",
    "dist = pts[:, 2]\n",
    "\n",
    "# Digitise → which bin does each point fall into (0..3)?\n",
    "band = np.digitize(dist, bins) - 1         # subtract 1 → 0-based"
   ]
  },
  {
   "cell_type": "code",
   "execution_count": 55,
   "id": "544a2e50",
   "metadata": {},
   "outputs": [],
   "source": [
    "pcd.colors = o3d.utility.Vector3dVector(palette[band])\n",
    "o3d.visualization.draw_geometries([pcd])"
   ]
  },
  {
   "cell_type": "markdown",
   "id": "9c51e5f0",
   "metadata": {},
   "source": [
    "### Roatating view"
   ]
  },
  {
   "cell_type": "code",
   "execution_count": 20,
   "id": "baea333b",
   "metadata": {},
   "outputs": [
    {
     "name": "stdout",
     "output_type": "stream",
     "text": [
      "[Open3D WARNING] GLFW Error: WGL: Failed to make context current: The handle is invalid. \n"
     ]
    }
   ],
   "source": [
    "\n",
    "def rotate_view(vis):\n",
    "    ctr = vis.get_view_control()\n",
    "    ctr.rotate(10.0, 0.0)\n",
    "    return False\n",
    "\n",
    "o3d.visualization.draw_geometries_with_animation_callback([pcd], rotate_view)"
   ]
  },
  {
   "cell_type": "markdown",
   "id": "09136653",
   "metadata": {},
   "source": [
    "### Segmentation"
   ]
  },
  {
   "cell_type": "code",
   "execution_count": 31,
   "id": "195cd8eb",
   "metadata": {},
   "outputs": [
    {
     "name": "stdout",
     "output_type": "stream",
     "text": [
      "Level 1 bbox size: [209.18073 204.07616 495.     ]\n",
      "Level 2 bbox size: [764.68616 702.90647 495.     ]\n",
      "Level 3 bbox size: [1019.87802  170.43698  344.     ]\n",
      "Level 4 bbox size: [3.29761 0.07861 0.     ]\n",
      "Level 5 bbox size: [168.7209  122.66535 241.     ]\n"
     ]
    }
   ],
   "source": [
    "# simple depth segmentation and bounding box measurement\n",
    "import numpy as np\n",
    "\n",
    "points = np.asarray(pcd.points)\n",
    "min_z, max_z = points[:, 2].min(), points[:, 2].max()\n",
    "num_levels = 5                      # for example, split into 5 depth bands\n",
    "z_step = (max_z - min_z) / num_levels\n",
    "\n",
    "for i in range(num_levels):\n",
    "    z_low = min_z + i * z_step\n",
    "    z_high = z_low + z_step\n",
    "    mask = (points[:, 2] >= z_low) & (points[:, 2] < z_high)\n",
    "    level = pcd.select_by_index(np.where(mask)[0])\n",
    "\n",
    "    # Calculate the bounding box for this level\n",
    "    bbox = level.get_axis_aligned_bounding_box()\n",
    "    print(f\"Level {i + 1} bbox size:\", bbox.get_extent())"
   ]
  },
  {
   "cell_type": "code",
   "execution_count": 32,
   "id": "057b2ec9",
   "metadata": {},
   "outputs": [],
   "source": [
    "o3d.visualization.draw_geometries([pcd])"
   ]
  }
 ],
 "metadata": {
  "kernelspec": {
   "display_name": ".venv",
   "language": "python",
   "name": "python3"
  },
  "language_info": {
   "codemirror_mode": {
    "name": "ipython",
    "version": 3
   },
   "file_extension": ".py",
   "mimetype": "text/x-python",
   "name": "python",
   "nbconvert_exporter": "python",
   "pygments_lexer": "ipython3",
   "version": "3.12.4"
  }
 },
 "nbformat": 4,
 "nbformat_minor": 5
}
