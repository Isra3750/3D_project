{
 "cells": [
  {
   "cell_type": "code",
   "execution_count": 1,
   "id": "15fcf5b4",
   "metadata": {},
   "outputs": [
    {
     "name": "stdout",
     "output_type": "stream",
     "text": [
      "Jupyter environment detected. Enabling Open3D WebVisualizer.\n",
      "[Open3D INFO] WebRTC GUI backend enabled.\n",
      "[Open3D INFO] WebRTCWindowSystem: HTTP handshake server disabled.\n"
     ]
    }
   ],
   "source": [
    "# examples/python/Advanced/interactive_visualization.py\n",
    "\n",
    "import numpy as np\n",
    "import copy\n",
    "import open3d as o3d\n",
    "\n"
   ]
  },
  {
   "cell_type": "code",
   "execution_count": 2,
   "id": "a88d2730",
   "metadata": {},
   "outputs": [
    {
     "name": "stdout",
     "output_type": "stream",
     "text": [
      "Point cloud has 307200 points.\n"
     ]
    }
   ],
   "source": [
    "pcd = o3d.io.read_point_cloud(\"PointCloud.pcd\") # path to point cloud file\n",
    "print(f\"Point cloud has {np.asarray(pcd.points).shape[0]} points.\")"
   ]
  },
  {
   "cell_type": "code",
   "execution_count": 8,
   "id": "d2ff7aff",
   "metadata": {},
   "outputs": [
    {
     "ename": "TypeError",
     "evalue": "object of type 'NoneType' has no len()",
     "output_type": "error",
     "traceback": [
      "\u001b[31m---------------------------------------------------------------------------\u001b[39m",
      "\u001b[31mTypeError\u001b[39m                                 Traceback (most recent call last)",
      "\u001b[36mCell\u001b[39m\u001b[36m \u001b[39m\u001b[32mIn[8]\u001b[39m\u001b[32m, line 3\u001b[39m\n\u001b[32m      1\u001b[39m picked_ids = o3d.visualization.draw_geometries_with_editing([pcd]) \u001b[38;5;66;03m# window will pop up with no zoom limit\u001b[39;00m\n\u001b[32m----> \u001b[39m\u001b[32m3\u001b[39m \u001b[38;5;28;01mif\u001b[39;00m \u001b[38;5;28;43mlen\u001b[39;49m\u001b[43m(\u001b[49m\u001b[43mpicked_ids\u001b[49m\u001b[43m)\u001b[49m >= \u001b[32m2\u001b[39m:\n\u001b[32m      4\u001b[39m     i1, i2 = picked_ids[:\u001b[32m2\u001b[39m]  \u001b[38;5;66;03m# take the first two picks\u001b[39;00m\n\u001b[32m      5\u001b[39m     p1 = np.asarray(pcd.points)[i1]\n",
      "\u001b[31mTypeError\u001b[39m: object of type 'NoneType' has no len()"
     ]
    }
   ],
   "source": [
    "picked_ids = o3d.visualization.draw_geometries_with_editing([pcd]) # window will pop up with no zoom limit\n",
    "\n",
    "if len(picked_ids) >= 2:\n",
    "    i1, i2 = picked_ids[:2]  # take the first two picks\n",
    "    p1 = np.asarray(pcd.points)[i1]\n",
    "    p2 = np.asarray(pcd.points)[i2]\n",
    "    dist = np.linalg.norm(p1 - p2)\n",
    "    print(f\"Picked point 1 index: {i1}, coord = {p1}\")\n",
    "    print(f\"Picked point 2 index: {i2}, coord = {p2}\")\n",
    "    print(f\"Euclidean distance between picks: {dist:.6f}\")\n",
    "else:\n",
    "    print(\"You need to pick at least two points (Shift+Click).\")"
   ]
  },
  {
   "cell_type": "code",
   "execution_count": null,
   "id": "195cd8eb",
   "metadata": {},
   "outputs": [],
   "source": []
  }
 ],
 "metadata": {
  "kernelspec": {
   "display_name": ".venv",
   "language": "python",
   "name": "python3"
  },
  "language_info": {
   "codemirror_mode": {
    "name": "ipython",
    "version": 3
   },
   "file_extension": ".py",
   "mimetype": "text/x-python",
   "name": "python",
   "nbconvert_exporter": "python",
   "pygments_lexer": "ipython3",
   "version": "3.12.4"
  }
 },
 "nbformat": 4,
 "nbformat_minor": 5
}
