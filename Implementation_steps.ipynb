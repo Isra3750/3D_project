{
 "cells": [
  {
   "cell_type": "code",
   "execution_count": 171,
   "id": "aa24b31b",
   "metadata": {},
   "outputs": [],
   "source": [
    "import open3d as o3d\n",
    "import numpy as np\n",
    "\n",
    "# Load the raw point cloud\n",
    "MM_TO_M = 1 / 1000.0\n",
    "pcd_path = \"PointCloud/PointCloud_box_a2.pcd\" # only a3 has problem due to sparse top\n",
    "pcd = o3d.io.read_point_cloud(pcd_path)\n",
    "\n",
    "# Convert units (assumes points are in mm)\n",
    "points = np.asarray(pcd.points, dtype=np.float64) * MM_TO_M\n",
    "pcd.points = o3d.utility.Vector3dVector(points)\n",
    "\n",
    "# Visualize raw point cloud\n",
    "o3d.visualization.draw_geometries([pcd], window_name=\"Raw Point Cloud\")"
   ]
  },
  {
   "cell_type": "markdown",
   "id": "1b13f65b",
   "metadata": {},
   "source": [
    "### Fixed tiled Camera - Not actually required?\n",
    "\n",
    "tilt adjustment is automatic, but must follow these conditions: \n",
    "\n",
    "- The table must be the largest flat surface in the scene.\n",
    "\n",
    "- The point cloud must include enough of the table — not just the box.\n",
    "\n",
    "- Camera must not be too far tilted (e.g., looking from the side).\n",
    "\n",
    "If those conditions hold (which they usually do in top-down LIDAR setups), then RANSAC will find the table plane accurately, and the leveling will succeed.\n",
    "\n",
    "https://www.open3d.org/docs/latest/tutorial/Basic/pointcloud.html"
   ]
  },
  {
   "cell_type": "code",
   "execution_count": 104,
   "id": "b9df2ee4",
   "metadata": {},
   "outputs": [
    {
     "name": "stdout",
     "output_type": "stream",
     "text": [
      "Plane equation: -0.01x + -0.13y + 0.99z + -0.64 = 0\n"
     ]
    }
   ],
   "source": [
    "# Adjust point cloud to level -> adjust tilt with RANSAC\n",
    "# Rotate the point cloud so the dominant plane (which is table) becomes horizontal\n",
    "def level_cloud(pcd, distance_thresh=0.002, num_iters=1000): # set RANSAC distance_thresh and num_iters\n",
    "    # Use RANSAC (random sample consensus (RSC)) to segment the dominant plane: ax + by + cz + d = 0, 3 main steps in RANSAC: \n",
    "    # 1. Randomly sample 3 points from point cloud\n",
    "    # 2. Estimate a plane from the 3 points: ax + by + cz + d = 0\n",
    "    # 3. Retain points that are close to the estimated plane\n",
    "    (a, b, c, d), inliers = pcd.segment_plane(distance_thresh,\n",
    "                                              ransac_n=3,\n",
    "                                              num_iterations=num_iters)\n",
    "    \n",
    "    print(f\"Plane equation: {a:.2f}x + {b:.2f}y + {c:.2f}z + {d:.2f} = 0\")\n",
    "    \n",
    "    # Get and normalize the normal vector of the plane\n",
    "    n = np.array([a, b, c])\n",
    "    n /= np.linalg.norm(n)\n",
    "\n",
    "    # Target vector (we want to rotate n to align with Z-axis)\n",
    "    z = np.array([0, 0, 1])\n",
    "\n",
    "    # Compute rotation axis (cross product between n and Z)\n",
    "    v = np.cross(n, z)\n",
    "    s = np.linalg.norm(v)\n",
    "\n",
    "    # Compute rotation matrix\n",
    "    if s < 1e-6:\n",
    "        # If n is already aligned with Z, no rotation needed\n",
    "        R = np.eye(3)\n",
    "    else:\n",
    "        # # Compute rotation matrix using Rodrigues rotation formula\n",
    "        c_dot = np.dot(n, z)\n",
    "        vx = np.array([[0, -v[2], v[1]],\n",
    "                       [v[2], 0, -v[0]],\n",
    "                       [-v[1], v[0], 0]])\n",
    "        R = np.eye(3) + vx + vx @ vx * ((1 - c_dot) / (s ** 2))\n",
    "\n",
    "    centroid = np.asarray(pcd.points)[inliers[0]]\n",
    "\n",
    "    # Translate to origin -> rotate -> translate back\n",
    "    pcd = pcd.translate(-centroid, relative=False)\n",
    "    pcd = pcd.rotate(R, center=(0, 0, 0))\n",
    "    pcd = pcd.translate(centroid, relative=False)\n",
    "    return pcd\n",
    "\n",
    "pcd = level_cloud(pcd)\n",
    "o3d.visualization.draw_geometries([pcd], window_name=\"Leveled Point Cloud\")\n"
   ]
  },
  {
   "cell_type": "code",
   "execution_count": 101,
   "id": "18d28ca0",
   "metadata": {},
   "outputs": [
    {
     "data": {
      "text/plain": [
       "True"
      ]
     },
     "execution_count": 101,
     "metadata": {},
     "output_type": "execute_result"
    }
   ],
   "source": [
    "# Save PCD\n",
    "pcd.points = o3d.utility.Vector3dVector(\n",
    "    np.asarray(pcd.points) * 1000.0) # convert back m → mm\n",
    "\n",
    "o3d.io.write_point_cloud(\"tilted_mm_ascii.pcd\",\n",
    "                         pcd,\n",
    "                         write_ascii=True)"
   ]
  },
  {
   "cell_type": "markdown",
   "id": "0cbc4b81",
   "metadata": {},
   "source": [
    "### Remove noise (optional step) - Not requried to work\n",
    "\n",
    "Might actually be worse to have this, since it remove some points on box"
   ]
  },
  {
   "cell_type": "code",
   "execution_count": 102,
   "id": "0d171bb3",
   "metadata": {},
   "outputs": [],
   "source": [
    "pcd, _ = pcd.remove_statistical_outlier(nb_neighbors=20, std_ratio=2.0)\n",
    "o3d.visualization.draw_geometries([pcd], window_name=\"After Noise Removal\")"
   ]
  },
  {
   "cell_type": "markdown",
   "id": "447719af",
   "metadata": {},
   "source": [
    "### Fit and Extract the Table Plane"
   ]
  },
  {
   "cell_type": "code",
   "execution_count": 172,
   "id": "e3834f83",
   "metadata": {},
   "outputs": [],
   "source": [
    "# Fit a plane to the point cloud using RANSAC, similar to level_cloud using RANSAC\n",
    "def plane_fit(cloud, thresh=0.005, n_iter=1000):\n",
    "    # Fit with RANSAC\n",
    "    (a, b, c, d), inliers = cloud.segment_plane(thresh, ransac_n=3, num_iterations=n_iter)\n",
    "     # Normalize the normal vector and d value\n",
    "    n = np.array([a, b, c])\n",
    "    norm = np.linalg.norm(n)\n",
    "    n /= norm\n",
    "    d /= norm\n",
    "    return n, d, inliers\n",
    "\n",
    "n_tab, d_tab, table_inliers = plane_fit(pcd) # Finds the table plane, extract normal vecotr (n_tab) and offset (d_tab)\n",
    "table_pc = pcd.select_by_index(table_inliers) # table object (dominant flat plane)\n",
    "obj_pc = pcd.select_by_index(table_inliers, invert=True) # all other object, found by using invert=True\n",
    "\n",
    "# Visualize\n",
    "table_pc.paint_uniform_color([1, 0, 0])\n",
    "obj_pc.paint_uniform_color([0.5, 0.5, 0.5])\n",
    "o3d.visualization.draw_geometries([table_pc, obj_pc], window_name=\"Table (Red) and Object (Gray)\")\n"
   ]
  },
  {
   "cell_type": "code",
   "execution_count": 173,
   "id": "c3534e5e",
   "metadata": {},
   "outputs": [],
   "source": [
    "o3d.visualization.draw_geometries([obj_pc]) # visualize just one item"
   ]
  },
  {
   "cell_type": "markdown",
   "id": "f35f9217",
   "metadata": {},
   "source": [
    "### Cluster Remaining Points to Identify the Box\n",
    "\n",
    "Identifying and isolating the box (or object) from the set of non-table points using clustering\n",
    "- eps = 0.02: max distance (in meter) between neighboring points in a cluster (2 cm)\n",
    "- min_points = 20: minimum number of points to form a dense cluster\n",
    "\n",
    "Before this, let's apply a Z-threshold filter based on the detected table plane height, before clustering."
   ]
  },
  {
   "cell_type": "code",
   "execution_count": 174,
   "id": "25b2e229",
   "metadata": {},
   "outputs": [],
   "source": [
    "# cluster non-table points that are above the table surface, z-filter step\n",
    "# Convert to NumPy array\n",
    "obj_points = np.asarray(obj_pc.points)\n",
    "\n",
    "# Compute Z of table at origin (assuming table normal is upward)\n",
    "# Plane eq: ax + by + cz + d = 0 → at (0, 0, z): cz + d = 0 → z = -d/c\n",
    "table_z = -d_tab / n_tab[2]  # Estimate table height at Z-axis intercept\n",
    "\n",
    "# Add small offset to avoid points just slightly below the surface\n",
    "z_margin = 0.005  # 5 mm\n",
    "mask = obj_points[:, 2] <= (table_z + z_margin)\n",
    "\n",
    "# Filter only points above the table\n",
    "obj_above_table = obj_pc.select_by_index(np.where(mask)[0])\n",
    "\n",
    "o3d.visualization.draw_geometries([obj_above_table]) # visualize just one item"
   ]
  },
  {
   "cell_type": "code",
   "execution_count": 175,
   "id": "a9dea8a8",
   "metadata": {},
   "outputs": [],
   "source": [
    "labels = np.array(obj_above_table.cluster_dbscan(eps=0.02, min_points=20)) # DBSCAN clustering\n",
    "largest = np.bincount(labels[labels >= 0]).argmax() # Finds the most populated cluster (assumed to be the box)\n",
    "box_pc = obj_above_table.select_by_index(np.where(labels == largest)[0]) # Selects only the points that belong to the largest cluster.\n",
    "\n",
    "# Visualize\n",
    "box_pc.paint_uniform_color([0.2, 0.8, 1.0])\n",
    "o3d.visualization.draw_geometries([box_pc], window_name=\"Detected Box Cluster\")"
   ]
  },
  {
   "cell_type": "markdown",
   "id": "4c7fe6dc",
   "metadata": {},
   "source": [
    "### Fit the Lid Plane of the Box"
   ]
  },
  {
   "cell_type": "code",
   "execution_count": 180,
   "id": "78c0c00c",
   "metadata": {},
   "outputs": [
    {
     "name": "stdout",
     "output_type": "stream",
     "text": [
      "Plane: [-0.06369408 -0.16519766  0.9842016 ] * x + -0.55 = 0\n"
     ]
    }
   ],
   "source": [
    "# RANSAC to find dominant plane, this will be top of box\n",
    "n_lid, d_lid, lid_inliers = plane_fit(box_pc)\n",
    "lid_pc = box_pc.select_by_index(lid_inliers)\n",
    "\n",
    "print(f\"Plane: {n_lid} * x + {d_lid:.2f} = 0\")"
   ]
  },
  {
   "cell_type": "code",
   "execution_count": 181,
   "id": "c954bd19",
   "metadata": {},
   "outputs": [],
   "source": [
    "lid_pc.paint_uniform_color([0.0, 1.0, 0.0])\n",
    "box_pc.paint_uniform_color([0.5, 0.5, 0.5])\n",
    "o3d.visualization.draw_geometries([lid_pc, box_pc], window_name=\"Lid (Green) on Box\")"
   ]
  },
  {
   "cell_type": "markdown",
   "id": "51048b01",
   "metadata": {},
   "source": [
    "### Measure Dimensions (L, W, H)"
   ]
  },
  {
   "cell_type": "code",
   "execution_count": 185,
   "id": "ea8b1c36",
   "metadata": {},
   "outputs": [
    {
     "name": "stdout",
     "output_type": "stream",
     "text": [
      "Box ≈ 20.84 × 11.12 × 8.70 cm  (L×W×H)\n"
     ]
    }
   ],
   "source": [
    "# Height from plane offset difference\n",
    "height_m = abs(d_lid - d_tab)\n",
    "\n",
    "# XY from lid's oriented bounding box\n",
    "lid_obb = lid_pc.get_oriented_bounding_box()\n",
    "xy_m = lid_obb.extent[:2]\n",
    "\n",
    "# Final dimensions in cm\n",
    "dims_cm = np.array([xy_m[0], xy_m[1], height_m]) * 100.0\n",
    "print(f\"Box ≈ {dims_cm[0]:.2f} × {dims_cm[1]:.2f} × {dims_cm[2]:.2f} cm  (L×W×H)\")"
   ]
  },
  {
   "cell_type": "markdown",
   "id": "6d300d8d",
   "metadata": {},
   "source": [
    "### Visualize Final Result"
   ]
  },
  {
   "cell_type": "code",
   "execution_count": 186,
   "id": "deb87ae7",
   "metadata": {},
   "outputs": [],
   "source": [
    "lid_obb.color = (1.0, 0.5, 0.0)  # bounding box outline = orange\n",
    "table_pc.paint_uniform_color([1.0, 0.0, 0.0]) # table = red\n",
    "lid_pc.paint_uniform_color([0.0, 1.0, 0.0]) # lid = green\n",
    "box_pc.paint_uniform_color([0.2, 0.8, 1.0]) # box body = cyan\n",
    "\n",
    "o3d.visualization.draw_geometries(\n",
    "    [table_pc, lid_pc, box_pc, lid_obb],\n",
    "    window_name=\"Final Visualization: Table, Lid, Box, OBB\",\n",
    "    width=800, height=600\n",
    ")"
   ]
  },
  {
   "cell_type": "markdown",
   "id": "84500dc0",
   "metadata": {},
   "source": [
    "### Test with more bounding box"
   ]
  },
  {
   "cell_type": "code",
   "execution_count": 157,
   "id": "022ab658",
   "metadata": {},
   "outputs": [],
   "source": [
    "# Create more bounding boxes\n",
    "table_obj = table_pc.get_oriented_bounding_box()"
   ]
  },
  {
   "cell_type": "code",
   "execution_count": 158,
   "id": "3f9cc1e3",
   "metadata": {},
   "outputs": [],
   "source": [
    "lid_obb.color = (1.0, 1.0, 0.0)  # yellow box\n",
    "table_obj.color = (1.0, 0.0, 0.0)\n",
    "lid_pc.paint_uniform_color([0.0, 1.0, 0.0])\n",
    "box_pc.paint_uniform_color([0.2, 0.8, 1.0])\n",
    "\n",
    "o3d.visualization.draw_geometries(\n",
    "    [table_obj, table_pc, lid_pc, box_pc, lid_obb],\n",
    "    window_name=\"Final Visualization: Table, Lid, Box, OBB\",\n",
    "    width=800, height=600\n",
    ")"
   ]
  }
 ],
 "metadata": {
  "kernelspec": {
   "display_name": ".venv",
   "language": "python",
   "name": "python3"
  },
  "language_info": {
   "codemirror_mode": {
    "name": "ipython",
    "version": 3
   },
   "file_extension": ".py",
   "mimetype": "text/x-python",
   "name": "python",
   "nbconvert_exporter": "python",
   "pygments_lexer": "ipython3",
   "version": "3.12.4"
  }
 },
 "nbformat": 4,
 "nbformat_minor": 5
}
